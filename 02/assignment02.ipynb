{
 "cells": [
  {
   "cell_type": "markdown",
   "id": "3fd4f1ee",
   "metadata": {},
   "source": [
    "# Domácí úkol č. 2 - 🕸 Síťová analýza PID\n",
    "\n",
    "## 📚 Data\n",
    "Jako dataset nám poslouží [otevřená data Pražské integrované dopravy](https://pid.cz/o-systemu/opendata/). Konkrétně budeme pracovat s daty [cestovních řádů](https://pid.cz/o-systemu/opendata/#h-gtfs), která jsou původně ve formátu GTFS (General Transit Feed Specification). To je formát, který využívá široká škála softwarových aplikací a kvůli tomu jej při publikaci dat využívají také veřejné dopravní agentury včetně PID.\n",
    "\n",
    "☝️**Pozor!** Pro řešení domácí úlohy vám poskytneme už připravený dataset $D$ ve formátu `csv`. Dataset $D$ jsme pro vás sestavili z dat, která pocházejí z [cestovních řádů](https://pid.cz/o-systemu/opendata/#h-gtfs). Více informací o všech souborech a jejich atributech lze nalézt v [dokumentaci formátu GTFS](https://developers.google.com/transit/gtfs/reference).\n",
    "\n",
    "## Zadání\n",
    "> ☝️ Používejte markdown buňky! Zdůvodňujte všechny důležité kroky, popisujte vizualizace a co je z nich možné pozorovat. Za nepřehledný domácí úkol nebudou uděleny body.\n",
    "\n",
    "Za řádné průběžné komentování a vizuální prezentaci postupu a výsledků lze získat až 4 body. Úkol řešíte jako **jednotlivci**.\n",
    "\n",
    "**✨ Dataset**\n",
    "* Načtěte si data ze souboru `d.csv`, což je již zmíněný dataset $D$, který obsahuje záznam pro každé dvě **po sobě jdoucí** zastávky nějakého spoje.\n",
    "* Struktura je následující (pro zjednodušení neuvažujeme service start_date a end_date):\n",
    "| stop_from | stop_from_name | stop_to | stop_to_name | depart_from | arrive_to | route_type | is_night | mon | tue | wed | thu | fri | sat | sun |\n",
    "| --- | --- | --- | --- | --- | --- | --- | --- | --- | --- | --- | --- | --- | --- | --- |\n",
    "| U699Z3P | Stadion Strahov | U981Z1P | Koleje Strahov | 7:24:00 | 7:25:00 | 3 | 0 | 1 | 1 | 1 | 1 | 1 | 0 | 0 |\n",
    "\n",
    "* Za jedinečný identifikátor zastávky můžete považovat **název zastávky**. Pozor na stejné názvy zastávek pro různé dopravní prostředky - u takových zastávek můžete uvažovat, že se jedná o jednu a tutéž stanici (v mnoha případech to i platí). \n",
    "\n",
    "**⚙️ Předzpracování dat**\n",
    "\n",
    "* Atributy `depart_from` a `arrive_to` budete chtít nejspíše upravit. Obsahují totiž časové údaje delší než 24 hodin (celkem se jedná o 1.5 % záznamů). Z reference formátu GTFS (info o sloupci, z kterého vznikl `depart_from` a `arive_to`): _Arrival time at a specific stop for a specific trip on a route. … For times occurring after midnight on the service day, enter the time as a value greater than 24:00:00 in HH:MM:SS local time for the day on which the trip schedule begins._ Nicméně narazíte i na chybné časy, které začínají s hodnotou větší než 24. Všechny tyto případy můžete vyřešit pomocí **modulo 24** ☝️.\n",
    "\n",
    "\n",
    "**🕸️ Základní síťová analýza** (celkem 12 bodů)\n",
    "\n",
    "Úkolem je analyzovat síť zastávek PID. Zastávky tedy budou uzly sítě. Mezi dvěma zastávkami je orientovaná hrana, pokud jsou to dvě po sobě jdoucí zastávky nějakého spoje (existuje alespoň jeden záznam v datasetu $D$ s odpovídajícími `stop_from`, `stop_to`). Váha hrany je rovna počtu dopravních prostředků, které na dané trase za období jednoho týdne projedou.\n",
    "\n",
    "Postupujte následovně:\n",
    "* Začněte volbou libovolného balíčku pro analýzu a vizualizaci sítí (lze využít i zmíněný NetworkX),\n",
    "* z datasetu $D$ vytvořte reprezentaci dat, která je vhodná pro vámi zvolený vizualizační balíček,\n",
    "* vytvořte vizualizaci sítě (celkem za 4 body) - vizualizace musí být čitelná, proto můžete vizualizovat i podčást sítě (např. pro určitý dopravní prostředek, např. tramvaje (kromě vizualizace sítě lanovky nebo metra, tu neuznáváme) nebo nějaký podgraf - řešení ponecháme na vás),\n",
    "* pomocí alespoň tří měr centrality analyzujte důležitost zastávek za období jednoho týdne (pondělí - neděle) a komentujte slovně, co tyto míry vzhledem ke konkrétním datům znamenají (každá míra za 2 body, celkem tedy za 6 bodů),\n",
    "* vytvořte vizualizaci pro alespoň jednu míru centrality (celkem za 2 body).\n",
    "\n",
    "**❓ Vlastní otázky** (3 body za každou otázku, celkem max. 9 bodů)\n",
    "\n",
    "Vytvořte 3 otázky (můžete i více), založené na filtraci datasetu $D$ a odpovídejte na ně vhodnými vizualizacemi. Otázky pro inspiraci:\n",
    "* Mění se důležité zastávky v závislosti na denním/nočním provozu?\n",
    "* Je rozdíl ve vytíženosti zastávek během pracovního týdne/víkendu?\n",
    "* ...\n",
    "\n",
    "**🔥 Data navíc**\n",
    "\n",
    "V souboru `stops.txt` je u každé zastávky uvedena **zeměpisná šířka a délka**. Tato data můžete využít pro rozšíření své analýzy a také vám mohou pomoci při layoutování grafu. ☝️ Pozor na stejné názvy zastávek s trochu jinou lokací pro různé dopravní prostředky. Je třeba navrhnout nějaké řešení (např. první, průměr, těžiště mnohoúhelníku apod., libovolně dle vašeho úsudku) a to zdůvodnit.\n",
    "\n",
    "### Bodové hodnocení\n",
    "Shrnutí bodů, které můžete nejvýše získat:\n",
    "- 4 body za průběžné komentáře a vizuální prezentaci postupu a výsledků,\n",
    "- 4 body za vizualizaci sítě,\n",
    "- 6 bodů za komentovanou analýzu alespoň 3 měr centrality,\n",
    "- 2 body za vizualizaci jedné z měr centrality,\n",
    "- 9 bodů za definici a zodpovězení minimálně tří vlastních otázek.\n",
    "\n",
    "Celkem lze za domácí úkol č. 2 získat maximálně 25 bodů."
   ]
  },
  {
   "cell_type": "code",
   "execution_count": 199,
   "id": "a81cdca2",
   "metadata": {},
   "outputs": [],
   "source": [
    "# a teď už je to na vás 💪\n",
    "# níže vložte své řešení\n",
    "import pandas as pd\n",
    "import networkx as nx\n",
    "from IPython.core.display import HTML\n",
    "import matplotlib.pyplot as plt\n",
    "import matplotlib.cm as cm\n",
    "import matplotlib.colors as colors\n",
    "from pyvis.network import Network"
   ]
  },
  {
   "cell_type": "markdown",
   "id": "9922135c-f1cf-4c99-a193-f16f7bb0391f",
   "metadata": {},
   "source": [
    "# Příprava dat a vytvoření hlavního grafu"
   ]
  },
  {
   "cell_type": "markdown",
   "id": "218fb530-961b-47e2-a950-eff3c2e97fbf",
   "metadata": {},
   "source": [
    "Načteme oba soubory a podíváme se, s čím budeme pracovat."
   ]
  },
  {
   "cell_type": "code",
   "execution_count": 200,
   "id": "ae032167-2704-4284-89de-c44887e4b23f",
   "metadata": {},
   "outputs": [
    {
     "name": "stdout",
     "output_type": "stream",
     "text": [
      "PID dataframe:\n"
     ]
    },
    {
     "data": {
      "text/html": [
       "<div>\n",
       "<style scoped>\n",
       "    .dataframe tbody tr th:only-of-type {\n",
       "        vertical-align: middle;\n",
       "    }\n",
       "\n",
       "    .dataframe tbody tr th {\n",
       "        vertical-align: top;\n",
       "    }\n",
       "\n",
       "    .dataframe thead th {\n",
       "        text-align: right;\n",
       "    }\n",
       "</style>\n",
       "<table border=\"1\" class=\"dataframe\">\n",
       "  <thead>\n",
       "    <tr style=\"text-align: right;\">\n",
       "      <th></th>\n",
       "      <th>stop_from</th>\n",
       "      <th>stop_from_name</th>\n",
       "      <th>stop_to</th>\n",
       "      <th>stop_to_name</th>\n",
       "      <th>depart_from</th>\n",
       "      <th>arrive_to</th>\n",
       "      <th>route_type</th>\n",
       "      <th>is_night</th>\n",
       "      <th>monday</th>\n",
       "      <th>tuesday</th>\n",
       "      <th>wednesday</th>\n",
       "      <th>thursday</th>\n",
       "      <th>friday</th>\n",
       "      <th>saturday</th>\n",
       "      <th>sunday</th>\n",
       "    </tr>\n",
       "  </thead>\n",
       "  <tbody>\n",
       "    <tr>\n",
       "      <th>0</th>\n",
       "      <td>U2991Z301</td>\n",
       "      <td>Hněvice</td>\n",
       "      <td>T58005</td>\n",
       "      <td>Hněvice seř.n.</td>\n",
       "      <td>4:53:00</td>\n",
       "      <td>4:54:30</td>\n",
       "      <td>2</td>\n",
       "      <td>0</td>\n",
       "      <td>1</td>\n",
       "      <td>1</td>\n",
       "      <td>1</td>\n",
       "      <td>1</td>\n",
       "      <td>1</td>\n",
       "      <td>0</td>\n",
       "      <td>0</td>\n",
       "    </tr>\n",
       "    <tr>\n",
       "      <th>1</th>\n",
       "      <td>T58005</td>\n",
       "      <td>Hněvice seř.n.</td>\n",
       "      <td>U4610Z301</td>\n",
       "      <td>Záluží</td>\n",
       "      <td>4:54:30</td>\n",
       "      <td>4:56:00</td>\n",
       "      <td>2</td>\n",
       "      <td>0</td>\n",
       "      <td>1</td>\n",
       "      <td>1</td>\n",
       "      <td>1</td>\n",
       "      <td>1</td>\n",
       "      <td>1</td>\n",
       "      <td>0</td>\n",
       "      <td>0</td>\n",
       "    </tr>\n",
       "    <tr>\n",
       "      <th>2</th>\n",
       "      <td>U4610Z301</td>\n",
       "      <td>Záluží</td>\n",
       "      <td>U4609Z301</td>\n",
       "      <td>Dobříň</td>\n",
       "      <td>4:56:00</td>\n",
       "      <td>4:59:00</td>\n",
       "      <td>2</td>\n",
       "      <td>0</td>\n",
       "      <td>1</td>\n",
       "      <td>1</td>\n",
       "      <td>1</td>\n",
       "      <td>1</td>\n",
       "      <td>1</td>\n",
       "      <td>0</td>\n",
       "      <td>0</td>\n",
       "    </tr>\n",
       "    <tr>\n",
       "      <th>3</th>\n",
       "      <td>U4609Z301</td>\n",
       "      <td>Dobříň</td>\n",
       "      <td>U4608Z301</td>\n",
       "      <td>Roudnice nad Labem</td>\n",
       "      <td>4:59:00</td>\n",
       "      <td>5:03:00</td>\n",
       "      <td>2</td>\n",
       "      <td>0</td>\n",
       "      <td>1</td>\n",
       "      <td>1</td>\n",
       "      <td>1</td>\n",
       "      <td>1</td>\n",
       "      <td>1</td>\n",
       "      <td>0</td>\n",
       "      <td>0</td>\n",
       "    </tr>\n",
       "    <tr>\n",
       "      <th>4</th>\n",
       "      <td>U4608Z301</td>\n",
       "      <td>Roudnice nad Labem</td>\n",
       "      <td>U4609Z301</td>\n",
       "      <td>Dobříň</td>\n",
       "      <td>4:36:00</td>\n",
       "      <td>4:38:00</td>\n",
       "      <td>2</td>\n",
       "      <td>0</td>\n",
       "      <td>1</td>\n",
       "      <td>1</td>\n",
       "      <td>1</td>\n",
       "      <td>1</td>\n",
       "      <td>1</td>\n",
       "      <td>0</td>\n",
       "      <td>0</td>\n",
       "    </tr>\n",
       "  </tbody>\n",
       "</table>\n",
       "</div>"
      ],
      "text/plain": [
       "   stop_from      stop_from_name    stop_to        stop_to_name depart_from  \\\n",
       "0  U2991Z301             Hněvice     T58005      Hněvice seř.n.     4:53:00   \n",
       "1     T58005      Hněvice seř.n.  U4610Z301              Záluží     4:54:30   \n",
       "2  U4610Z301              Záluží  U4609Z301              Dobříň     4:56:00   \n",
       "3  U4609Z301              Dobříň  U4608Z301  Roudnice nad Labem     4:59:00   \n",
       "4  U4608Z301  Roudnice nad Labem  U4609Z301              Dobříň     4:36:00   \n",
       "\n",
       "  arrive_to  route_type  is_night  monday  tuesday  wednesday  thursday  \\\n",
       "0   4:54:30           2         0       1        1          1         1   \n",
       "1   4:56:00           2         0       1        1          1         1   \n",
       "2   4:59:00           2         0       1        1          1         1   \n",
       "3   5:03:00           2         0       1        1          1         1   \n",
       "4   4:38:00           2         0       1        1          1         1   \n",
       "\n",
       "   friday  saturday  sunday  \n",
       "0       1         0       0  \n",
       "1       1         0       0  \n",
       "2       1         0       0  \n",
       "3       1         0       0  \n",
       "4       1         0       0  "
      ]
     },
     "metadata": {},
     "output_type": "display_data"
    },
    {
     "name": "stdout",
     "output_type": "stream",
     "text": [
      "<class 'pandas.core.frame.DataFrame'>\n",
      "RangeIndex: 1642433 entries, 0 to 1642432\n",
      "Data columns (total 15 columns):\n",
      " #   Column          Non-Null Count    Dtype \n",
      "---  ------          --------------    ----- \n",
      " 0   stop_from       1642433 non-null  object\n",
      " 1   stop_from_name  1642433 non-null  object\n",
      " 2   stop_to         1642433 non-null  object\n",
      " 3   stop_to_name    1642433 non-null  object\n",
      " 4   depart_from     1642433 non-null  object\n",
      " 5   arrive_to       1642433 non-null  object\n",
      " 6   route_type      1642433 non-null  int64 \n",
      " 7   is_night        1642433 non-null  int64 \n",
      " 8   monday          1642433 non-null  int64 \n",
      " 9   tuesday         1642433 non-null  int64 \n",
      " 10  wednesday       1642433 non-null  int64 \n",
      " 11  thursday        1642433 non-null  int64 \n",
      " 12  friday          1642433 non-null  int64 \n",
      " 13  saturday        1642433 non-null  int64 \n",
      " 14  sunday          1642433 non-null  int64 \n",
      "dtypes: int64(9), object(6)\n",
      "memory usage: 188.0+ MB\n"
     ]
    },
    {
     "data": {
      "text/plain": [
       "None"
      ]
     },
     "metadata": {},
     "output_type": "display_data"
    },
    {
     "name": "stdout",
     "output_type": "stream",
     "text": [
      "Stops dataframe:\n"
     ]
    },
    {
     "data": {
      "text/html": [
       "<div>\n",
       "<style scoped>\n",
       "    .dataframe tbody tr th:only-of-type {\n",
       "        vertical-align: middle;\n",
       "    }\n",
       "\n",
       "    .dataframe tbody tr th {\n",
       "        vertical-align: top;\n",
       "    }\n",
       "\n",
       "    .dataframe thead th {\n",
       "        text-align: right;\n",
       "    }\n",
       "</style>\n",
       "<table border=\"1\" class=\"dataframe\">\n",
       "  <thead>\n",
       "    <tr style=\"text-align: right;\">\n",
       "      <th></th>\n",
       "      <th>stop_id</th>\n",
       "      <th>stop_name</th>\n",
       "      <th>stop_lat</th>\n",
       "      <th>stop_lon</th>\n",
       "      <th>zone_id</th>\n",
       "      <th>stop_url</th>\n",
       "      <th>location_type</th>\n",
       "      <th>parent_station</th>\n",
       "      <th>wheelchair_boarding</th>\n",
       "      <th>level_id</th>\n",
       "      <th>platform_code</th>\n",
       "      <th>asw_node_id</th>\n",
       "      <th>asw_stop_id</th>\n",
       "    </tr>\n",
       "  </thead>\n",
       "  <tbody>\n",
       "    <tr>\n",
       "      <th>0</th>\n",
       "      <td>U50S1</td>\n",
       "      <td>Budějovická</td>\n",
       "      <td>50.044411</td>\n",
       "      <td>14.448787</td>\n",
       "      <td>P</td>\n",
       "      <td>NaN</td>\n",
       "      <td>1</td>\n",
       "      <td>NaN</td>\n",
       "      <td>1</td>\n",
       "      <td>NaN</td>\n",
       "      <td>NaN</td>\n",
       "      <td>50.0</td>\n",
       "      <td>NaN</td>\n",
       "    </tr>\n",
       "    <tr>\n",
       "      <th>1</th>\n",
       "      <td>U52S1</td>\n",
       "      <td>Chodov</td>\n",
       "      <td>50.031672</td>\n",
       "      <td>14.490961</td>\n",
       "      <td>P</td>\n",
       "      <td>NaN</td>\n",
       "      <td>1</td>\n",
       "      <td>NaN</td>\n",
       "      <td>1</td>\n",
       "      <td>NaN</td>\n",
       "      <td>NaN</td>\n",
       "      <td>52.0</td>\n",
       "      <td>NaN</td>\n",
       "    </tr>\n",
       "    <tr>\n",
       "      <th>2</th>\n",
       "      <td>U75S1</td>\n",
       "      <td>Kolbenova</td>\n",
       "      <td>50.110395</td>\n",
       "      <td>14.516398</td>\n",
       "      <td>P</td>\n",
       "      <td>NaN</td>\n",
       "      <td>1</td>\n",
       "      <td>NaN</td>\n",
       "      <td>1</td>\n",
       "      <td>NaN</td>\n",
       "      <td>NaN</td>\n",
       "      <td>75.0</td>\n",
       "      <td>NaN</td>\n",
       "    </tr>\n",
       "    <tr>\n",
       "      <th>3</th>\n",
       "      <td>U78S1</td>\n",
       "      <td>Ládví</td>\n",
       "      <td>50.126591</td>\n",
       "      <td>14.469451</td>\n",
       "      <td>P</td>\n",
       "      <td>NaN</td>\n",
       "      <td>1</td>\n",
       "      <td>NaN</td>\n",
       "      <td>1</td>\n",
       "      <td>NaN</td>\n",
       "      <td>NaN</td>\n",
       "      <td>78.0</td>\n",
       "      <td>NaN</td>\n",
       "    </tr>\n",
       "    <tr>\n",
       "      <th>4</th>\n",
       "      <td>U100S1</td>\n",
       "      <td>Vltavská</td>\n",
       "      <td>50.100298</td>\n",
       "      <td>14.438492</td>\n",
       "      <td>P</td>\n",
       "      <td>NaN</td>\n",
       "      <td>1</td>\n",
       "      <td>NaN</td>\n",
       "      <td>1</td>\n",
       "      <td>NaN</td>\n",
       "      <td>NaN</td>\n",
       "      <td>100.0</td>\n",
       "      <td>NaN</td>\n",
       "    </tr>\n",
       "  </tbody>\n",
       "</table>\n",
       "</div>"
      ],
      "text/plain": [
       "  stop_id    stop_name   stop_lat   stop_lon zone_id  stop_url  location_type  \\\n",
       "0   U50S1  Budějovická  50.044411  14.448787       P       NaN              1   \n",
       "1   U52S1       Chodov  50.031672  14.490961       P       NaN              1   \n",
       "2   U75S1    Kolbenova  50.110395  14.516398       P       NaN              1   \n",
       "3   U78S1        Ládví  50.126591  14.469451       P       NaN              1   \n",
       "4  U100S1     Vltavská  50.100298  14.438492       P       NaN              1   \n",
       "\n",
       "  parent_station  wheelchair_boarding level_id platform_code  asw_node_id  \\\n",
       "0            NaN                    1      NaN           NaN         50.0   \n",
       "1            NaN                    1      NaN           NaN         52.0   \n",
       "2            NaN                    1      NaN           NaN         75.0   \n",
       "3            NaN                    1      NaN           NaN         78.0   \n",
       "4            NaN                    1      NaN           NaN        100.0   \n",
       "\n",
       "   asw_stop_id  \n",
       "0          NaN  \n",
       "1          NaN  \n",
       "2          NaN  \n",
       "3          NaN  \n",
       "4          NaN  "
      ]
     },
     "metadata": {},
     "output_type": "display_data"
    },
    {
     "name": "stdout",
     "output_type": "stream",
     "text": [
      "<class 'pandas.core.frame.DataFrame'>\n",
      "RangeIndex: 16435 entries, 0 to 16434\n",
      "Data columns (total 13 columns):\n",
      " #   Column               Non-Null Count  Dtype  \n",
      "---  ------               --------------  -----  \n",
      " 0   stop_id              16435 non-null  object \n",
      " 1   stop_name            15936 non-null  object \n",
      " 2   stop_lat             16435 non-null  float64\n",
      " 3   stop_lon             16435 non-null  float64\n",
      " 4   zone_id              15408 non-null  object \n",
      " 5   stop_url             0 non-null      float64\n",
      " 6   location_type        16435 non-null  int64  \n",
      " 7   parent_station       954 non-null    object \n",
      " 8   wheelchair_boarding  16435 non-null  int64  \n",
      " 9   level_id             954 non-null    object \n",
      " 10  platform_code        14750 non-null  object \n",
      " 11  asw_node_id          15748 non-null  float64\n",
      " 12  asw_stop_id          15354 non-null  float64\n",
      "dtypes: float64(5), int64(2), object(6)\n",
      "memory usage: 1.6+ MB\n"
     ]
    },
    {
     "data": {
      "text/plain": [
       "None"
      ]
     },
     "metadata": {},
     "output_type": "display_data"
    }
   ],
   "source": [
    "pid_df = pd.read_csv(\"d.csv\")\n",
    "stops_df = pd.read_csv(\"stops.txt\")\n",
    "print(\"PID dataframe:\")\n",
    "display(pid_df.head())\n",
    "display(pid_df.info())\n",
    "print(\"Stops dataframe:\")\n",
    "display(stops_df.head())\n",
    "display(stops_df.info())"
   ]
  },
  {
   "cell_type": "markdown",
   "id": "39c43cd3-2259-4a00-8458-098ccb3b9437",
   "metadata": {},
   "source": [
    "Naformátujeme nesprávné časy ve sloupcích 'depart_from' a 'arrive_to' v 'pid_df'"
   ]
  },
  {
   "cell_type": "code",
   "execution_count": 201,
   "id": "0a5b6271-049f-40e3-a1a9-5ad07e7f8446",
   "metadata": {},
   "outputs": [
    {
     "name": "stdout",
     "output_type": "stream",
     "text": [
      "<class 'pandas.core.frame.DataFrame'>\n",
      "RangeIndex: 1642433 entries, 0 to 1642432\n",
      "Data columns (total 15 columns):\n",
      " #   Column          Non-Null Count    Dtype         \n",
      "---  ------          --------------    -----         \n",
      " 0   stop_from       1642433 non-null  object        \n",
      " 1   stop_from_name  1642433 non-null  object        \n",
      " 2   stop_to         1642433 non-null  object        \n",
      " 3   stop_to_name    1642433 non-null  object        \n",
      " 4   depart_from     1642433 non-null  datetime64[ns]\n",
      " 5   arrive_to       1642433 non-null  datetime64[ns]\n",
      " 6   route_type      1642433 non-null  int64         \n",
      " 7   is_night        1642433 non-null  int64         \n",
      " 8   monday          1642433 non-null  int64         \n",
      " 9   tuesday         1642433 non-null  int64         \n",
      " 10  wednesday       1642433 non-null  int64         \n",
      " 11  thursday        1642433 non-null  int64         \n",
      " 12  friday          1642433 non-null  int64         \n",
      " 13  saturday        1642433 non-null  int64         \n",
      " 14  sunday          1642433 non-null  int64         \n",
      "dtypes: datetime64[ns](2), int64(9), object(4)\n",
      "memory usage: 188.0+ MB\n"
     ]
    }
   ],
   "source": [
    "def adjust_time(date_time_str):\n",
    "    hour, minute, second = [int(x) for x in date_time_str.split(\":\")]\n",
    "    if hour >= 24:\n",
    "        hour %= 24\n",
    "    return f'{hour}:{minute}:{second}'\n",
    "\n",
    "pid_df['depart_from'] = pid_df['depart_from'].apply(adjust_time)\n",
    "pid_df['arrive_to'] = pid_df['arrive_to'].apply(adjust_time)\n",
    "pid_df['depart_from'] = pd.to_datetime(pid_df['depart_from'], format='%H:%M:%S')\n",
    "pid_df['arrive_to'] = pd.to_datetime(pid_df['arrive_to'], format='%H:%M:%S')\n",
    "pid_df.info()"
   ]
  },
  {
   "cell_type": "markdown",
   "id": "ec012678-c094-48b0-a82f-35cb171a9cbb",
   "metadata": {},
   "source": [
    "Budeme pracovat pouze s tramvajovými trasami, protože mají optimální množství dat. Vytvoříme hlavní graf, jehož vrcholy budou určeny na základě dat ze souboru 'stops.txt' (průměrné souřadnice). Hrany grafu budou spojovat dvojice zastávek, mezi kterými existuje alespoň jeden záznam v souboru 'd.csv'"
   ]
  },
  {
   "cell_type": "code",
   "execution_count": 202,
   "id": "a62b2b91-80ec-4223-b851-a7091d1f7748",
   "metadata": {},
   "outputs": [
    {
     "data": {
      "text/html": [
       "<div>\n",
       "<style scoped>\n",
       "    .dataframe tbody tr th:only-of-type {\n",
       "        vertical-align: middle;\n",
       "    }\n",
       "\n",
       "    .dataframe tbody tr th {\n",
       "        vertical-align: top;\n",
       "    }\n",
       "\n",
       "    .dataframe thead th {\n",
       "        text-align: right;\n",
       "    }\n",
       "</style>\n",
       "<table border=\"1\" class=\"dataframe\">\n",
       "  <thead>\n",
       "    <tr style=\"text-align: right;\">\n",
       "      <th></th>\n",
       "      <th>stop_from</th>\n",
       "      <th>stop_from_name</th>\n",
       "      <th>stop_to</th>\n",
       "      <th>stop_to_name</th>\n",
       "      <th>depart_from</th>\n",
       "      <th>arrive_to</th>\n",
       "      <th>route_type</th>\n",
       "      <th>is_night</th>\n",
       "      <th>monday</th>\n",
       "      <th>tuesday</th>\n",
       "      <th>wednesday</th>\n",
       "      <th>thursday</th>\n",
       "      <th>friday</th>\n",
       "      <th>saturday</th>\n",
       "      <th>sunday</th>\n",
       "      <th>weight</th>\n",
       "    </tr>\n",
       "  </thead>\n",
       "  <tbody>\n",
       "    <tr>\n",
       "      <th>35575</th>\n",
       "      <td>U865Z2P</td>\n",
       "      <td>Vozovna Motol</td>\n",
       "      <td>U394Z2P</td>\n",
       "      <td>Motol</td>\n",
       "      <td>1900-01-01 06:07:00</td>\n",
       "      <td>1900-01-01 06:08:00</td>\n",
       "      <td>0</td>\n",
       "      <td>0</td>\n",
       "      <td>1</td>\n",
       "      <td>1</td>\n",
       "      <td>1</td>\n",
       "      <td>1</td>\n",
       "      <td>1</td>\n",
       "      <td>0</td>\n",
       "      <td>0</td>\n",
       "      <td>5</td>\n",
       "    </tr>\n",
       "    <tr>\n",
       "      <th>35576</th>\n",
       "      <td>U394Z2P</td>\n",
       "      <td>Motol</td>\n",
       "      <td>U395Z2P</td>\n",
       "      <td>Krematorium Motol</td>\n",
       "      <td>1900-01-01 06:08:00</td>\n",
       "      <td>1900-01-01 06:09:00</td>\n",
       "      <td>0</td>\n",
       "      <td>0</td>\n",
       "      <td>1</td>\n",
       "      <td>1</td>\n",
       "      <td>1</td>\n",
       "      <td>1</td>\n",
       "      <td>1</td>\n",
       "      <td>0</td>\n",
       "      <td>0</td>\n",
       "      <td>5</td>\n",
       "    </tr>\n",
       "    <tr>\n",
       "      <th>35577</th>\n",
       "      <td>U395Z2P</td>\n",
       "      <td>Krematorium Motol</td>\n",
       "      <td>U113Z2P</td>\n",
       "      <td>Hlušičkova</td>\n",
       "      <td>1900-01-01 06:09:00</td>\n",
       "      <td>1900-01-01 06:10:00</td>\n",
       "      <td>0</td>\n",
       "      <td>0</td>\n",
       "      <td>1</td>\n",
       "      <td>1</td>\n",
       "      <td>1</td>\n",
       "      <td>1</td>\n",
       "      <td>1</td>\n",
       "      <td>0</td>\n",
       "      <td>0</td>\n",
       "      <td>5</td>\n",
       "    </tr>\n",
       "    <tr>\n",
       "      <th>35578</th>\n",
       "      <td>U113Z2P</td>\n",
       "      <td>Hlušičkova</td>\n",
       "      <td>U236Z2P</td>\n",
       "      <td>Slánská</td>\n",
       "      <td>1900-01-01 06:10:00</td>\n",
       "      <td>1900-01-01 06:12:00</td>\n",
       "      <td>0</td>\n",
       "      <td>0</td>\n",
       "      <td>1</td>\n",
       "      <td>1</td>\n",
       "      <td>1</td>\n",
       "      <td>1</td>\n",
       "      <td>1</td>\n",
       "      <td>0</td>\n",
       "      <td>0</td>\n",
       "      <td>5</td>\n",
       "    </tr>\n",
       "    <tr>\n",
       "      <th>35579</th>\n",
       "      <td>U236Z2P</td>\n",
       "      <td>Slánská</td>\n",
       "      <td>U47Z2P</td>\n",
       "      <td>Blatiny</td>\n",
       "      <td>1900-01-01 06:12:00</td>\n",
       "      <td>1900-01-01 06:13:00</td>\n",
       "      <td>0</td>\n",
       "      <td>0</td>\n",
       "      <td>1</td>\n",
       "      <td>1</td>\n",
       "      <td>1</td>\n",
       "      <td>1</td>\n",
       "      <td>1</td>\n",
       "      <td>0</td>\n",
       "      <td>0</td>\n",
       "      <td>5</td>\n",
       "    </tr>\n",
       "  </tbody>\n",
       "</table>\n",
       "</div>"
      ],
      "text/plain": [
       "      stop_from     stop_from_name  stop_to       stop_to_name  \\\n",
       "35575   U865Z2P      Vozovna Motol  U394Z2P              Motol   \n",
       "35576   U394Z2P              Motol  U395Z2P  Krematorium Motol   \n",
       "35577   U395Z2P  Krematorium Motol  U113Z2P         Hlušičkova   \n",
       "35578   U113Z2P         Hlušičkova  U236Z2P            Slánská   \n",
       "35579   U236Z2P            Slánská   U47Z2P            Blatiny   \n",
       "\n",
       "              depart_from           arrive_to  route_type  is_night  monday  \\\n",
       "35575 1900-01-01 06:07:00 1900-01-01 06:08:00           0         0       1   \n",
       "35576 1900-01-01 06:08:00 1900-01-01 06:09:00           0         0       1   \n",
       "35577 1900-01-01 06:09:00 1900-01-01 06:10:00           0         0       1   \n",
       "35578 1900-01-01 06:10:00 1900-01-01 06:12:00           0         0       1   \n",
       "35579 1900-01-01 06:12:00 1900-01-01 06:13:00           0         0       1   \n",
       "\n",
       "       tuesday  wednesday  thursday  friday  saturday  sunday  weight  \n",
       "35575        1          1         1       1         0       0       5  \n",
       "35576        1          1         1       1         0       0       5  \n",
       "35577        1          1         1       1         0       0       5  \n",
       "35578        1          1         1       1         0       0       5  \n",
       "35579        1          1         1       1         0       0       5  "
      ]
     },
     "metadata": {},
     "output_type": "display_data"
    },
    {
     "data": {
      "text/html": [
       "<div>\n",
       "<style scoped>\n",
       "    .dataframe tbody tr th:only-of-type {\n",
       "        vertical-align: middle;\n",
       "    }\n",
       "\n",
       "    .dataframe tbody tr th {\n",
       "        vertical-align: top;\n",
       "    }\n",
       "\n",
       "    .dataframe thead th {\n",
       "        text-align: right;\n",
       "    }\n",
       "</style>\n",
       "<table border=\"1\" class=\"dataframe\">\n",
       "  <thead>\n",
       "    <tr style=\"text-align: right;\">\n",
       "      <th></th>\n",
       "      <th>stop_name</th>\n",
       "      <th>stop_lon</th>\n",
       "      <th>stop_lat</th>\n",
       "    </tr>\n",
       "  </thead>\n",
       "  <tbody>\n",
       "    <tr>\n",
       "      <th>0</th>\n",
       "      <td>Albertov</td>\n",
       "      <td>14.420451</td>\n",
       "      <td>50.067822</td>\n",
       "    </tr>\n",
       "    <tr>\n",
       "      <th>1</th>\n",
       "      <td>Anděl</td>\n",
       "      <td>14.403928</td>\n",
       "      <td>50.071867</td>\n",
       "    </tr>\n",
       "    <tr>\n",
       "      <th>2</th>\n",
       "      <td>Arbesovo náměstí</td>\n",
       "      <td>14.404089</td>\n",
       "      <td>50.076067</td>\n",
       "    </tr>\n",
       "    <tr>\n",
       "      <th>3</th>\n",
       "      <td>Arena Libeň jih</td>\n",
       "      <td>14.494592</td>\n",
       "      <td>50.102892</td>\n",
       "    </tr>\n",
       "    <tr>\n",
       "      <th>4</th>\n",
       "      <td>Balabenka</td>\n",
       "      <td>14.482804</td>\n",
       "      <td>50.104343</td>\n",
       "    </tr>\n",
       "  </tbody>\n",
       "</table>\n",
       "</div>"
      ],
      "text/plain": [
       "          stop_name   stop_lon   stop_lat\n",
       "0          Albertov  14.420451  50.067822\n",
       "1             Anděl  14.403928  50.071867\n",
       "2  Arbesovo náměstí  14.404089  50.076067\n",
       "3   Arena Libeň jih  14.494592  50.102892\n",
       "4         Balabenka  14.482804  50.104343"
      ]
     },
     "metadata": {},
     "output_type": "display_data"
    }
   ],
   "source": [
    "trams_df = pid_df[pid_df['route_type'] == 0].copy()\n",
    "trams_df['weight'] = trams_df[['monday', 'tuesday', 'wednesday', 'thursday', 'friday', 'saturday', 'sunday']].sum(axis=1)\n",
    "trams_stops_df = stops_df[stops_df['stop_id'].isin(trams_df['stop_from']) | stops_df['stop_id'].isin(trams_df['stop_to'])]\n",
    "trams_unique_stop_df = trams_stops_df.groupby('stop_name').agg({'stop_lon': 'median', 'stop_lat': 'median'}).reset_index()\n",
    "\n",
    "display(trams_df.head())\n",
    "display(trams_unique_stop_df.head())\n",
    "\n",
    "G = nx.Graph()\n",
    "\n",
    "for tram_stop_row in trams_unique_stop_df.itertuples():\n",
    "    G.add_node(tram_stop_row.stop_name, coordinates=(tram_stop_row.stop_lon, tram_stop_row.stop_lat))\n",
    "\n",
    "for tram_row in trams_df.itertuples():\n",
    "    G.add_edge(tram_row.stop_from_name, tram_row.stop_to_name)"
   ]
  },
  {
   "cell_type": "markdown",
   "id": "d5056818-03d4-49a3-8f62-00a57aa63212",
   "metadata": {},
   "source": [
    "Pro vizualizaci grafu použijeme knihovnu 'pyvis', která umožňuje vytvářet interaktivní vizualizace grafů"
   ]
  },
  {
   "cell_type": "code",
   "execution_count": 203,
   "id": "b8882f72-970f-430a-91fd-3cd54c70b53d",
   "metadata": {},
   "outputs": [
    {
     "name": "stdout",
     "output_type": "stream",
     "text": [
      "Warning: When  cdn_resources is 'local' jupyter notebook has issues displaying graphics on chrome/safari. Use cdn_resources='in_line' or cdn_resources='remote' if you have issues viewing graphics in a notebook.\n",
      "graph.html\n"
     ]
    },
    {
     "data": {
      "text/html": [
       "<h1 style='text-align: center;'>Graph representation of the PID Tram System</h1><iframe src='graph.html' width='100%' height='500px' style='border:none;'></iframe>"
      ],
      "text/plain": [
       "<IPython.core.display.HTML object>"
      ]
     },
     "metadata": {},
     "output_type": "display_data"
    }
   ],
   "source": [
    "coordinates = nx.get_node_attributes(G, 'coordinates')\n",
    "min_x = min(coord[0] for coord in coordinates.values())\n",
    "max_x = max(coord[0] for coord in coordinates.values())\n",
    "min_y = min(coord[1] for coord in coordinates.values())\n",
    "max_y = max(coord[1] for coord in coordinates.values())\n",
    "\n",
    "coordinates = {\n",
    "    node: (\n",
    "        (coord[0] - min_x) / (max_x - min_x) * 7000,\n",
    "        (coord[1] - min_y) / (max_y - min_y) * -7000\n",
    "    )\n",
    "    for node, coord in coordinates.items()\n",
    "}\n",
    "\n",
    "net1 = Network(notebook=True, height=\"500px\", width=\"100%\")\n",
    "\n",
    "for node, (x, y) in coordinates.items():\n",
    "    net1.add_node(node, label=node, title=f\"Node: {node}\", x=x, y=y, fixed=True)\n",
    "\n",
    "for u, v, data in G.edges(data=True):\n",
    "    net1.add_edge(u, v)\n",
    "\n",
    "net1.set_options(\"\"\"\n",
    "{\n",
    "  \"physics\": {\n",
    "    \"enabled\": false\n",
    "  },\n",
    "  \"interaction\": {\n",
    "    \"zoomView\": true,\n",
    "    \"dragView\": true\n",
    "  },\n",
    "  \"layout\": {\n",
    "    \"improvedLayout\": true\n",
    "  }\n",
    "}\n",
    "\"\"\")\n",
    "\n",
    "net1.show(\"graph.html\")\n",
    "\n",
    "html_title = \"<h1 style='text-align: center;'>Graph representation of the PID Tram System</h1>\"\n",
    "html_with_title = f\"{html_title}<iframe src='graph.html' width='100%' height='500px' style='border:none;'></iframe>\"\n",
    "\n",
    "display(HTML(html_with_title))\n"
   ]
  },
  {
   "cell_type": "markdown",
   "id": "01c8efb8-ec0e-4990-b6c0-76dbf292fe8e",
   "metadata": {},
   "source": [
    "## Kontrola grafu na souvislost"
   ]
  },
  {
   "cell_type": "markdown",
   "id": "5f16fb61-43a5-4697-afbf-41a65e73e21e",
   "metadata": {},
   "source": [
    "Ověříme, zda je námi vytvořený graf souvislý, což může být důležité pro některé geometrické metriky"
   ]
  },
  {
   "cell_type": "code",
   "execution_count": 204,
   "id": "2422286c-c115-4b9c-a239-243936837eb2",
   "metadata": {},
   "outputs": [
    {
     "name": "stdout",
     "output_type": "stream",
     "text": [
      "Graph je souvuslý\n"
     ]
    }
   ],
   "source": [
    "if not nx.is_connected(G):\n",
    "    print('Graf není souvislý')\n",
    "else:\n",
    "    print('Graph je souvuslý')"
   ]
  },
  {
   "cell_type": "markdown",
   "id": "00c988ed-a6dc-47a3-bd2c-aedaca9b5510",
   "metadata": {},
   "source": [
    "# Centrality"
   ]
  },
  {
   "cell_type": "markdown",
   "id": "197037fc-ec33-421f-b221-5fbb3be70459",
   "metadata": {},
   "source": [
    "## Degree Centrality"
   ]
  },
  {
   "cell_type": "markdown",
   "id": "26da515d-da46-4cdb-8105-7920bec61631",
   "metadata": {},
   "source": [
    "Nejprve použijeme míru centrality podle stupně, která ukazuje, jak důležitý je konkrétní vrchol z hlediska počtu spojení s ostatními vrcholy v síti"
   ]
  },
  {
   "cell_type": "code",
   "execution_count": 205,
   "id": "58d7cd58-e12c-40a3-9a34-4b51e9c6bf3e",
   "metadata": {},
   "outputs": [
    {
     "name": "stdout",
     "output_type": "stream",
     "text": [
      "[('Karlovo náměstí', 0.02857142857142857), ('Malostranská', 0.024999999999999998), ('Náměstí Bratří Synků', 0.02142857142857143), ('Národní divadlo', 0.02142857142857143), ('Otakarova', 0.02142857142857143)]\n"
     ]
    }
   ],
   "source": [
    "degree_centrality = nx.degree_centrality(G)\n",
    "\n",
    "top_5_nodes = sorted(degree_centrality.items(), key=lambda x: x[1], reverse=True)[:5]\n",
    "\n",
    "print(top_5_nodes)"
   ]
  },
  {
   "cell_type": "markdown",
   "id": "e1dc457d-d246-4883-9d42-e58c0f4214fe",
   "metadata": {},
   "source": [
    "Výsledky ukazují, že zastávka \"Karlovo náměstí\" je nejvýznamnější v dopravní síti, protože má největší počet přímých spojení s ostatními zastávkami. Následují zastávky \"Malostranská\" a \"Náměstí Bratří Synků\", což může naznačovat jejich důležitost jako přestupních uzlů."
   ]
  },
  {
   "cell_type": "markdown",
   "id": "063bf590-6be8-4d21-a2a7-368f88444448",
   "metadata": {},
   "source": [
    "## Eigenvector Centrality"
   ]
  },
  {
   "cell_type": "markdown",
   "id": "e0e0ea10-9387-4ec1-840b-f96d834ed17a",
   "metadata": {},
   "source": [
    "Výhodou této metriky je, že na rozdíl od Degree Centrality zohledňuje \"vlivnost\" samotných sousedních uzlů. Jinými slovy, pokud jsou sousedi uzlu vlivní, stává se vlivnějším i tento uzel"
   ]
  },
  {
   "cell_type": "code",
   "execution_count": 206,
   "id": "b0040f43-ef15-46a9-88f5-8b193b101466",
   "metadata": {},
   "outputs": [
    {
     "name": "stdout",
     "output_type": "stream",
     "text": [
      "[('Karlovo náměstí', 0.48166289186796674), ('Národní třída', 0.3840695409695818), ('Lazarská', 0.363687823249621), ('Myslíkova', 0.3280723404573743), ('Novoměstská radnice', 0.2850830043520858)]\n"
     ]
    }
   ],
   "source": [
    "eigenvector_centrality = nx.eigenvector_centrality(G, max_iter=1000)\n",
    "top_5_nodes = sorted(eigenvector_centrality.items(), key=lambda x: x[1], reverse=True)[:5]\n",
    "print(top_5_nodes)"
   ]
  },
  {
   "cell_type": "markdown",
   "id": "67fd1cd9-b1a3-4666-887a-f63b85e3ab35",
   "metadata": {},
   "source": [
    "Všimněme si, že \"Karlovo náměstí\" zůstává nejdůležitější zastávkou v síti. Zastávky \"Národní třída\" a \"Lazarská\" zaujímají druhé a třetí místo, což naznačuje jejich umístění na klíčových místech sítě propojených s dalšími významnými uzly. To potvrzuje jejich důležitost nejen jako přestupních bodů, ale také jako kritických míst pro celou strukturu sítě."
   ]
  },
  {
   "cell_type": "markdown",
   "id": "db5fb61b-7eb2-48a5-8c92-35dff679c047",
   "metadata": {},
   "source": [
    "## Closeness Centrality"
   ]
  },
  {
   "cell_type": "markdown",
   "id": "337089ad-5e7d-42d9-a882-c307eb155fcd",
   "metadata": {},
   "source": [
    "Pro rozmanitější analýzu tentokrát použijeme geometrickou metriku, která je založena na nejkratších cestách v grafu. Smysl této metriky spočívá v tom, že čím kratší jsou vzdálenosti od konkrétního vrcholu k ostatním vrcholům grafu, tím vyšší bude hodnota centrality pro tento vrchol. Je důležité ověřit souvislost grafu, abychom se vyhnuli nesprávné interpretaci izolovaných komponent, což jsme již provedli výše"
   ]
  },
  {
   "cell_type": "code",
   "execution_count": 207,
   "id": "a9afc050-5851-49a2-b244-26380408781b",
   "metadata": {},
   "outputs": [
    {
     "name": "stdout",
     "output_type": "stream",
     "text": [
      "[('Malostranská', 0.09978617248752673), ('Národní divadlo', 0.09887005649717515), ('Staroměstská', 0.09855684618092221), ('Čechův most', 0.09828009828009827), ('Právnická fakulta', 0.09810791871058164)]\n"
     ]
    }
   ],
   "source": [
    "closeness_centrality = nx.closeness_centrality(G)\n",
    "\n",
    "top_5_closeness = sorted(closeness_centrality.items(), key=lambda x: x[1], reverse=True)[:5]\n",
    "print(top_5_closeness)"
   ]
  },
  {
   "cell_type": "markdown",
   "id": "b132775a-7d7b-4541-8166-2c8b350e8dfb",
   "metadata": {},
   "source": [
    "Výsledky Closeness Centrality ukazují, že zastávka \"Malostranská\" je nejcentrálnější v síti, protože má nejmenší průměrnou vzdálenost ke všem ostatním uzlům. To poukazuje na její strategické umístění v dopravní síti, odkud je snadné se dostat k většině zastávek. Zastávky \"Národní divadlo\", \"Staroměstská\" a \"Čechův most\" se také umisťují na vysokých pozicích, což naznačuje, že se nacházejí na klíčových místech s dobrou dostupností pro cestující\n"
   ]
  },
  {
   "cell_type": "markdown",
   "id": "34908cd6-1d3b-45a6-b354-ed5d07404e6e",
   "metadata": {},
   "source": [
    "## Vizualizace Degree Centrality"
   ]
  },
  {
   "cell_type": "code",
   "execution_count": 208,
   "id": "61d7225a-aa1a-4c57-bf22-d26b04a15d40",
   "metadata": {},
   "outputs": [
    {
     "name": "stdout",
     "output_type": "stream",
     "text": [
      "Warning: When  cdn_resources is 'local' jupyter notebook has issues displaying graphics on chrome/safari. Use cdn_resources='in_line' or cdn_resources='remote' if you have issues viewing graphics in a notebook.\n",
      "graph_degree_centrality.html\n"
     ]
    },
    {
     "data": {
      "text/html": [
       "<h1 style='text-align: center;'>Color Visualization of Degree Centrality for Tram Stops</h1><iframe src='graph_degree_centrality.html' width='100%' height='500px' style='border:none;'></iframe>"
      ],
      "text/plain": [
       "<IPython.core.display.HTML object>"
      ]
     },
     "metadata": {},
     "output_type": "display_data"
    },
    {
     "data": {
      "text/plain": [
       "None"
      ]
     },
     "metadata": {},
     "output_type": "display_data"
    },
    {
     "data": {
      "image/png": "[encoded data removed]",
      "text/plain": [
       "<Figure size 800x100 with 1 Axes>"
      ]
     },
     "metadata": {},
     "output_type": "display_data"
    }
   ],
   "source": [
    "degree_centrality = nx.degree_centrality(G)\n",
    "\n",
    "norm = colors.Normalize(vmin=min(degree_centrality.values()), vmax=max(degree_centrality.values()))\n",
    "colormap = plt.get_cmap(\"viridis\", 7)\n",
    "\n",
    "net2 = Network(notebook=True, height=\"500px\", width=\"100%\")\n",
    "\n",
    "for node, (x, y) in coordinates.items():\n",
    "    centrality = degree_centrality[node]\n",
    "    color = colors.to_hex(colormap(norm(centrality)))\n",
    "    net2.add_node(node, label=node, title=f\"Node: {node}, Degree Centrality: {centrality:.4f}\", x=x, y=y, color=color, fixed=True)\n",
    "\n",
    "for u, v, data in G.edges(data=True):\n",
    "    net2.add_edge(u, v)\n",
    "\n",
    "net2.set_options(\"\"\"\n",
    "{\n",
    "  \"physics\": {\n",
    "    \"enabled\": false\n",
    "  },\n",
    "  \"interaction\": {\n",
    "    \"zoomView\": true,\n",
    "    \"dragView\": true\n",
    "  },\n",
    "  \"layout\": {\n",
    "    \"improvedLayout\": true\n",
    "  }\n",
    "}\n",
    "\"\"\")\n",
    "\n",
    "net2.show(\"graph_degree_centrality.html\")\n",
    "\n",
    "html_title = \"<h1 style='text-align: center;'>Color Visualization of Degree Centrality for Tram Stops</h1>\"\n",
    "html_with_title = f\"{html_title}<iframe src='graph_degree_centrality.html' width='100%' height='500px' style='border:none;'></iframe>\"\n",
    "\n",
    "display(HTML(html_with_title))\n",
    "\n",
    "\n",
    "fig, ax = plt.subplots(figsize=(8, 1))\n",
    "fig.subplots_adjust(bottom=0.5)\n",
    "\n",
    "cmap = plt.get_cmap(\"viridis\")\n",
    "norm = colors.Normalize(vmin=min(degree_centrality.values()), vmax=max(degree_centrality.values()))\n",
    "\n",
    "cbar = plt.colorbar(\n",
    "    plt.cm.ScalarMappable(norm=norm, cmap=cmap),\n",
    "    cax=ax,\n",
    "    orientation=\"horizontal\"\n",
    ")\n",
    "display(cbar.set_label(\"Degree Centrality\"))\n",
    "\n",
    "plt.show()"
   ]
  },
  {
   "cell_type": "markdown",
   "id": "fd8f60e6-ca63-4568-826e-24182adafd99",
   "metadata": {},
   "source": [
    "Tento graf ukazuje, že nejdůležitější zastávky sítě z hlediska dané metriky se nacházejí v centru města. Zastávky, které mají stejné názvy, ale fyzicky se nacházejí na různých místech (Strossmayerovo náměstí, Anděl, Karlovo náměstí), mají také vyšší hodnotu Degree Centrality"
   ]
  },
  {
   "cell_type": "markdown",
   "id": "cd0004bd-44a1-48a6-87c2-92ba23c74e94",
   "metadata": {},
   "source": [
    "# Vlastní otázky"
   ]
  },
  {
   "cell_type": "markdown",
   "id": "61ddbf8f-33aa-4057-ad4b-85cc6f85f9e0",
   "metadata": {},
   "source": [
    "## 1) Jaké je průměrné rozložení času potřebného k překonání vzdálenosti mezi sousedními zastávkami?"
   ]
  },
  {
   "cell_type": "markdown",
   "id": "5977b18a-ec8c-43d7-8597-a8a2df01c88d",
   "metadata": {},
   "source": [
    "Pro tento účel spočítáme čas mezi sloupci 'arrive_to' a 'depart_from' a vypočítáme průměr pro každou unikátní dvojici zastávek (dvojice A-B a B-A považujeme za stejné)."
   ]
  },
  {
   "cell_type": "code",
   "execution_count": 209,
   "id": "22e46c51-7664-4b05-9f50-ad18c4203d06",
   "metadata": {},
   "outputs": [
    {
     "data": {
      "text/plain": [
       "35575             Motol&Vozovna Motol\n",
       "35576         Krematorium Motol&Motol\n",
       "35577    Hlušičkova&Krematorium Motol\n",
       "35578              Hlušičkova&Slánská\n",
       "35579                 Blatiny&Slánská\n",
       "Name: stops_pair, dtype: object"
      ]
     },
     "metadata": {},
     "output_type": "display_data"
    },
    {
     "data": {
      "text/html": [
       "<div>\n",
       "<style scoped>\n",
       "    .dataframe tbody tr th:only-of-type {\n",
       "        vertical-align: middle;\n",
       "    }\n",
       "\n",
       "    .dataframe tbody tr th {\n",
       "        vertical-align: top;\n",
       "    }\n",
       "\n",
       "    .dataframe thead th {\n",
       "        text-align: right;\n",
       "    }\n",
       "</style>\n",
       "<table border=\"1\" class=\"dataframe\">\n",
       "  <thead>\n",
       "    <tr style=\"text-align: right;\">\n",
       "      <th></th>\n",
       "      <th>stop_pair</th>\n",
       "      <th>average_interval</th>\n",
       "    </tr>\n",
       "  </thead>\n",
       "  <tbody>\n",
       "    <tr>\n",
       "      <th>0</th>\n",
       "      <td>Albertov&amp;Botanická zahrada</td>\n",
       "      <td>1.000000</td>\n",
       "    </tr>\n",
       "    <tr>\n",
       "      <th>1</th>\n",
       "      <td>Albertov&amp;Ostrčilovo náměstí</td>\n",
       "      <td>2.218644</td>\n",
       "    </tr>\n",
       "    <tr>\n",
       "      <th>2</th>\n",
       "      <td>Albertov&amp;Výtoň</td>\n",
       "      <td>7.032807</td>\n",
       "    </tr>\n",
       "    <tr>\n",
       "      <th>3</th>\n",
       "      <td>Anděl&amp;Arbesovo náměstí</td>\n",
       "      <td>3.434876</td>\n",
       "    </tr>\n",
       "    <tr>\n",
       "      <th>4</th>\n",
       "      <td>Anděl&amp;Bertramka</td>\n",
       "      <td>5.786035</td>\n",
       "    </tr>\n",
       "  </tbody>\n",
       "</table>\n",
       "</div>"
      ],
      "text/plain": [
       "                     stop_pair  average_interval\n",
       "0   Albertov&Botanická zahrada          1.000000\n",
       "1  Albertov&Ostrčilovo náměstí          2.218644\n",
       "2               Albertov&Výtoň          7.032807\n",
       "3       Anděl&Arbesovo náměstí          3.434876\n",
       "4              Anděl&Bertramka          5.786035"
      ]
     },
     "metadata": {},
     "output_type": "display_data"
    }
   ],
   "source": [
    "trams_df['interval'] = (trams_df['arrive_to'] - trams_df['depart_from']).dt.total_seconds().abs() / 60\n",
    "\n",
    "trams_df['stops_pair'] = trams_df.apply(lambda row: '&'.join(sorted([row['stop_from_name'], row['stop_to_name']])), axis=1)\n",
    "\n",
    "display(trams_df['stops_pair'].head())\n",
    "\n",
    "average_intervals = trams_df.groupby('stops_pair')['interval'].mean().reset_index()\n",
    "\n",
    "average_intervals.columns = ['stop_pair', 'average_interval']\n",
    "\n",
    "display(average_intervals.head())\n",
    "\n",
    "new_edge_data = {\n",
    "    tuple(row['stop_pair'].split('&')): {'interval': row['average_interval']}\n",
    "    for _, row in average_intervals.iterrows()\n",
    "}\n",
    "\n",
    "nx.set_edge_attributes(G, new_edge_data)\n"
   ]
  },
  {
   "cell_type": "markdown",
   "id": "13fa1042-ee12-4259-b18b-0e671f3049b2",
   "metadata": {},
   "source": [
    "Nyní použijeme barevnou mapu pro zbarvení hran našeho výchozího grafu"
   ]
  },
  {
   "cell_type": "code",
   "execution_count": 210,
   "id": "e1090f17-6cf6-45a6-81c4-a06f8f22ee03",
   "metadata": {},
   "outputs": [
    {
     "name": "stdout",
     "output_type": "stream",
     "text": [
      "Warning: When  cdn_resources is 'local' jupyter notebook has issues displaying graphics on chrome/safari. Use cdn_resources='in_line' or cdn_resources='remote' if you have issues viewing graphics in a notebook.\n",
      "graph_intervals.html\n"
     ]
    },
    {
     "data": {
      "text/html": [
       "<h1 style='text-align: center;'>Average Time intervals between Tram Stops</h1><iframe src='graph_intervals.html' width='100%' height='500px' style='border:none;'></iframe>"
      ],
      "text/plain": [
       "<IPython.core.display.HTML object>"
      ]
     },
     "metadata": {},
     "output_type": "display_data"
    },
    {
     "data": {
      "image/png": "[encoded data removed]",
      "text/plain": [
       "<Figure size 800x100 with 1 Axes>"
      ]
     },
     "metadata": {},
     "output_type": "display_data"
    },
    {
     "data": {
      "text/plain": [
       "None"
      ]
     },
     "metadata": {},
     "output_type": "display_data"
    }
   ],
   "source": [
    "edge_intervals = nx.get_edge_attributes(G, 'interval')\n",
    "edge_norm = colors.Normalize(vmin=min(edge_intervals.values()), vmax=max(edge_intervals.values()))\n",
    "edge_colormap = plt.get_cmap(\"plasma\")\n",
    "\n",
    "net3 = Network(notebook=True, height=\"500px\", width=\"100%\")\n",
    "\n",
    "for node, (x, y) in coordinates.items():\n",
    "    net3.add_node(node, label=node, title=f\"Node: {node}\", x=x, y=y, fixed=True)\n",
    "\n",
    "for u, v, data in G.edges(data=True):\n",
    "    interval = data.get('interval', 0)\n",
    "    edge_color = colors.to_hex(edge_colormap(edge_norm(interval)))\n",
    "    net3.add_edge(u, v, title=f\"Average Interval: {interval:.2f} min\", color=edge_color, value=0.8)\n",
    "\n",
    "net3.set_options(\"\"\"\n",
    "{\n",
    "  \"physics\": {\n",
    "    \"enabled\": false\n",
    "  },\n",
    "  \"interaction\": {\n",
    "    \"zoomView\": true,\n",
    "    \"dragView\": true\n",
    "  },\n",
    "  \"layout\": {\n",
    "    \"improvedLayout\": true\n",
    "  }\n",
    "}\n",
    "\"\"\")\n",
    "\n",
    "net3.show(\"graph_intervals.html\")\n",
    "\n",
    "html_title = \"<h1 style='text-align: center;'>Average Time intervals between Tram Stops</h1>\"\n",
    "html_with_title = f\"{html_title}<iframe src='graph_intervals.html' width='100%' height='500px' style='border:none;'></iframe>\"\n",
    "\n",
    "display(HTML(html_with_title))\n",
    "\n",
    "fig, ax = plt.subplots(figsize=(8, 1))\n",
    "fig.subplots_adjust(bottom=0.5)\n",
    "\n",
    "cbar = plt.colorbar(\n",
    "    plt.cm.ScalarMappable(norm=edge_norm, cmap=edge_colormap),\n",
    "    cax=ax,\n",
    "    orientation=\"horizontal\"\n",
    ")\n",
    "cbar.set_label(\"Average Interval Between Stops (minutes)\")\n",
    "display(plt.show())"
   ]
  },
  {
   "cell_type": "markdown",
   "id": "05010032-c516-4351-94d2-1ecd8be2dfb1",
   "metadata": {},
   "source": [
    "Z grafu je patrné, že nejkratší intervaly jsou v průměru v centru města, což lze vysvětlit vyšší hustotou rozmístění zastávek. Lze si také všimnout hran, které se zřetelně odlišují barvou, například Dejvická-Lotyšská nebo Anděl-Křižová, což může být způsobeno nepřesnostmi v původních datech"
   ]
  },
  {
   "cell_type": "markdown",
   "id": "1a2cb09f-0a16-4ae7-b6ef-56e41696a871",
   "metadata": {},
   "source": [
    "## 2) Které zastávky hrají klíčovou roli pro propojení dopravní sítě?"
   ]
  },
  {
   "cell_type": "markdown",
   "id": "65932afc-9a8a-450c-a888-7c671c42ee59",
   "metadata": {},
   "source": [
    "Pro odpověď na tuto otázku použijeme metriku Betweenness Centrality, která ukazuje, jak často se uzel (v tomto případě zastávka) nachází na nejkratší cestě mezi jinými uzly. V kontextu dopravní sítě tato metrika odráží důležitost uzlu pro propojení sítě, spojující různé části sítě. Můžeme říci, že takové uzly zajišťují klíčové trasy pro pohyb mezi vzdálenými oblastmi, a jejich odstranění by mohlo výrazně narušit celkovou propojenost sítě."
   ]
  },
  {
   "cell_type": "code",
   "execution_count": 211,
   "id": "b91e83c7-11db-4b33-b97d-f0a9d5cdc300",
   "metadata": {},
   "outputs": [
    {
     "name": "stdout",
     "output_type": "stream",
     "text": [
      "Warning: When  cdn_resources is 'local' jupyter notebook has issues displaying graphics on chrome/safari. Use cdn_resources='in_line' or cdn_resources='remote' if you have issues viewing graphics in a notebook.\n",
      "graph_connections.html\n"
     ]
    },
    {
     "data": {
      "text/html": [
       "<h1 style='text-align: center;'>Key Stops for Network Connectivity in the Tram System</h1><iframe src='graph_connections.html' width='100%' height='500px' style='border:none;'></iframe>"
      ],
      "text/plain": [
       "<IPython.core.display.HTML object>"
      ]
     },
     "metadata": {},
     "output_type": "display_data"
    },
    {
     "data": {
      "text/plain": [
       "None"
      ]
     },
     "metadata": {},
     "output_type": "display_data"
    },
    {
     "data": {
      "image/png": "[encoded data removed]",
      "text/plain": [
       "<Figure size 800x100 with 1 Axes>"
      ]
     },
     "metadata": {},
     "output_type": "display_data"
    }
   ],
   "source": [
    "betweenness_centrality = nx.betweenness_centrality(G)\n",
    "\n",
    "norm = colors.Normalize(vmin=min(betweenness_centrality.values()), vmax=max(betweenness_centrality.values()))\n",
    "colormap = plt.get_cmap(\"viridis\", 7)\n",
    "\n",
    "net4 = Network(notebook=True, height=\"500px\", width=\"100%\")\n",
    "\n",
    "for node, (x, y) in coordinates.items():\n",
    "    centrality = betweenness_centrality[node]\n",
    "    color = colors.to_hex(colormap(norm(centrality)))\n",
    "    net4.add_node(node, label=node, title=f\"Node: {node}, Betweenness Centrality: {centrality:.4f}\", x=x, y=y, color=color, fixed=True)\n",
    "\n",
    "for u, v, data in G.edges(data=True):\n",
    "    net4.add_edge(u, v, title=f\"Weight: {data.get('weight', 1)}\")\n",
    "\n",
    "net4.set_options(\"\"\"\n",
    "{\n",
    "  \"physics\": {\n",
    "    \"enabled\": false\n",
    "  },\n",
    "  \"interaction\": {\n",
    "    \"zoomView\": true,\n",
    "    \"dragView\": true\n",
    "  },\n",
    "  \"layout\": {\n",
    "    \"improvedLayout\": true\n",
    "  }\n",
    "}\n",
    "\"\"\")\n",
    "\n",
    "net4.show(\"graph_connections.html\")\n",
    "\n",
    "html_title = \"<h1 style='text-align: center;'>Key Stops for Network Connectivity in the Tram System</h1>\"\n",
    "html_with_title = f\"{html_title}<iframe src='graph_connections.html' width='100%' height='500px' style='border:none;'></iframe>\"\n",
    "\n",
    "display(HTML(html_with_title))\n",
    "\n",
    "fig, ax = plt.subplots(figsize=(8, 1))\n",
    "fig.subplots_adjust(bottom=0.5)\n",
    "\n",
    "cmap = plt.get_cmap(\"viridis\")\n",
    "norm = colors.Normalize(vmin=min(betweenness_centrality.values()), vmax=max(betweenness_centrality.values()))\n",
    "\n",
    "cbar = plt.colorbar(\n",
    "    plt.cm.ScalarMappable(norm=norm, cmap=cmap),\n",
    "    cax=ax,\n",
    "    orientation=\"horizontal\"\n",
    ")\n",
    "display(cbar.set_label(\"Betweenness Centrality\"))\n",
    "\n",
    "plt.show()"
   ]
  },
  {
   "cell_type": "markdown",
   "id": "4e40fe5c-a030-4cd1-8945-65eac2785a56",
   "metadata": {},
   "source": [
    "Vidíme, že nejdůležitější zastávky pro podporu celé sítě se nacházejí v centru města, což je zcela logické. Vysoký význam má také Anděl a zastávky v jeho okolí. Z dalších můžeme zmínit například Strossmayerovo náměstí, což mohu osobně potvrdit, protože přes něj každý den jezdím do školy :)"
   ]
  },
  {
   "cell_type": "markdown",
   "id": "d07c603b-c0c8-45c2-86d3-5e269cc99a19",
   "metadata": {},
   "source": [
    "## 3) Které dvojice zastávek jsou o víkendech nejvytíženější?"
   ]
  },
  {
   "cell_type": "markdown",
   "id": "52a50e1d-3cf3-455b-90e4-a4bccec99136",
   "metadata": {},
   "source": [
    "Pro tento účel spočítáme součet všech spojů aktivních v sobotu a neděli pro každou unikátní dvojici zastávek (podobně jako u první otázky)"
   ]
  },
  {
   "cell_type": "code",
   "execution_count": 212,
   "id": "6981dacb-3f4c-4c3d-8d73-45fbaaec8957",
   "metadata": {},
   "outputs": [
    {
     "data": {
      "text/html": [
       "<div>\n",
       "<style scoped>\n",
       "    .dataframe tbody tr th:only-of-type {\n",
       "        vertical-align: middle;\n",
       "    }\n",
       "\n",
       "    .dataframe tbody tr th {\n",
       "        vertical-align: top;\n",
       "    }\n",
       "\n",
       "    .dataframe thead th {\n",
       "        text-align: right;\n",
       "    }\n",
       "</style>\n",
       "<table border=\"1\" class=\"dataframe\">\n",
       "  <thead>\n",
       "    <tr style=\"text-align: right;\">\n",
       "      <th></th>\n",
       "      <th>stop_pair</th>\n",
       "      <th>weekend_rides</th>\n",
       "    </tr>\n",
       "  </thead>\n",
       "  <tbody>\n",
       "    <tr>\n",
       "      <th>189</th>\n",
       "      <td>Královský letohrádek&amp;Pražský hrad</td>\n",
       "      <td>2569</td>\n",
       "    </tr>\n",
       "    <tr>\n",
       "      <th>350</th>\n",
       "      <td>Vodičkova&amp;Václavské náměstí</td>\n",
       "      <td>2168</td>\n",
       "    </tr>\n",
       "    <tr>\n",
       "      <th>201</th>\n",
       "      <td>Lazarská&amp;Vodičkova</td>\n",
       "      <td>2168</td>\n",
       "    </tr>\n",
       "    <tr>\n",
       "      <th>142</th>\n",
       "      <td>Jindřišská&amp;Václavské náměstí</td>\n",
       "      <td>2168</td>\n",
       "    </tr>\n",
       "    <tr>\n",
       "      <th>21</th>\n",
       "      <td>Biskupcova&amp;Ohrada</td>\n",
       "      <td>1954</td>\n",
       "    </tr>\n",
       "  </tbody>\n",
       "</table>\n",
       "</div>"
      ],
      "text/plain": [
       "                             stop_pair  weekend_rides\n",
       "189  Královský letohrádek&Pražský hrad           2569\n",
       "350        Vodičkova&Václavské náměstí           2168\n",
       "201                 Lazarská&Vodičkova           2168\n",
       "142       Jindřišská&Václavské náměstí           2168\n",
       "21                   Biskupcova&Ohrada           1954"
      ]
     },
     "metadata": {},
     "output_type": "display_data"
    }
   ],
   "source": [
    "trams_df['weekend_rides'] = trams_df['saturday'] + trams_df['sunday']\n",
    "\n",
    "popular_routes_weekend = trams_df.groupby('stops_pair')['weekend_rides'].sum().reset_index()\n",
    "\n",
    "popular_routes_weekend.columns = ['stop_pair', 'total_weekend_rides']\n",
    "\n",
    "popular_routes_weekend = popular_routes_weekend.sort_values(by='total_weekend_rides', ascending=False)\n",
    "\n",
    "popular_routes_weekend.columns = ['stop_pair', 'weekend_rides']\n",
    "\n",
    "display(popular_routes_weekend.head())\n",
    "\n",
    "new_edge_data = {\n",
    "    tuple(row['stop_pair'].split('&')): {'weekend_rides': row['weekend_rides']}\n",
    "    for _, row in popular_routes_weekend.iterrows()\n",
    "}\n",
    "\n",
    "nx.set_edge_attributes(G, new_edge_data)\n"
   ]
  },
  {
   "cell_type": "code",
   "execution_count": 213,
   "id": "eaf86f56-acae-47f3-863a-d9fcd6224fd3",
   "metadata": {},
   "outputs": [
    {
     "name": "stdout",
     "output_type": "stream",
     "text": [
      "Warning: When  cdn_resources is 'local' jupyter notebook has issues displaying graphics on chrome/safari. Use cdn_resources='in_line' or cdn_resources='remote' if you have issues viewing graphics in a notebook.\n",
      "graph_total_weekends.html\n"
     ]
    },
    {
     "data": {
      "text/html": [
       "<h1 style='text-align: center;'>Most Heavily Used Tram Stop Pairs on Weekends</h1><iframe src='graph_total_weekends.html' width='100%' height='500px' style='border:none;'></iframe>"
      ],
      "text/plain": [
       "<IPython.core.display.HTML object>"
      ]
     },
     "metadata": {},
     "output_type": "display_data"
    },
    {
     "data": {
      "image/png": "[encoded data removed]",
      "text/plain": [
       "<Figure size 800x100 with 1 Axes>"
      ]
     },
     "metadata": {},
     "output_type": "display_data"
    },
    {
     "data": {
      "text/plain": [
       "None"
      ]
     },
     "metadata": {},
     "output_type": "display_data"
    }
   ],
   "source": [
    "edge_weekend_rides = nx.get_edge_attributes(G, 'weekend_rides')\n",
    "edge_norm = colors.Normalize(vmin=min(edge_intervals.values()), vmax=max(edge_weekend_rides.values()))\n",
    "edge_colormap = plt.get_cmap(\"plasma\")\n",
    "\n",
    "net5 = Network(notebook=True, height=\"500px\", width=\"100%\")\n",
    "\n",
    "for node, (x, y) in coordinates.items():\n",
    "    net5.add_node(node, label=node, title=f\"Node: {node}\", x=x, y=y, fixed=True)\n",
    "\n",
    "for u, v, data in G.edges(data=True):\n",
    "    total_weekend_rides = data.get('weekend_rides', 0)\n",
    "    edge_color = colors.to_hex(edge_colormap(edge_norm(total_weekend_rides)))\n",
    "    net5.add_edge(u, v, title=f\"Total Weekend Rides: {total_weekend_rides}\", color=edge_color, value=0.8)\n",
    "\n",
    "net5.set_options(\"\"\"\n",
    "{\n",
    "  \"physics\": {\n",
    "    \"enabled\": false\n",
    "  },\n",
    "  \"interaction\": {\n",
    "    \"zoomView\": true,\n",
    "    \"dragView\": true\n",
    "  },\n",
    "  \"layout\": {\n",
    "    \"improvedLayout\": true\n",
    "  }\n",
    "}\n",
    "\"\"\")\n",
    "\n",
    "net5.show(\"graph_total_weekends.html\")\n",
    "\n",
    "html_title = \"<h1 style='text-align: center;'>Most Heavily Used Tram Stop Pairs on Weekends</h1>\"\n",
    "html_with_title = f\"{html_title}<iframe src='graph_total_weekends.html' width='100%' height='500px' style='border:none;'></iframe>\"\n",
    "\n",
    "display(HTML(html_with_title))\n",
    "\n",
    "fig, ax = plt.subplots(figsize=(8, 1))\n",
    "fig.subplots_adjust(bottom=0.5)\n",
    "\n",
    "cbar = plt.colorbar(\n",
    "    plt.cm.ScalarMappable(norm=edge_norm, cmap=edge_colormap),\n",
    "    cax=ax,\n",
    "    orientation=\"horizontal\"\n",
    ")\n",
    "cbar.set_label(\"Total Weekend Rides Count\")\n",
    "display(plt.show())"
   ]
  },
  {
   "cell_type": "markdown",
   "id": "d8b58c95-26a5-4f2e-950a-6619088d9bf2",
   "metadata": {},
   "source": [
    "Vidíme, že o víkendech funguje tramvajová doprava nejintenzivněji v centru města, což může souviset jak s velkým počtem tras procházejících přes zastávky, tak s intervaly mezi tramvajemi na jedné trase."
   ]
  }
 ],
 "metadata": {
  "kernelspec": {
   "display_name": "viz-02",
   "language": "python",
   "name": "viz-02"
  },
  "language_info": {
   "codemirror_mode": {
    "name": "ipython",
    "version": 3
   },
   "file_extension": ".py",
   "mimetype": "text/x-python",
   "name": "python",
   "nbconvert_exporter": "python",
   "pygments_lexer": "ipython3",
   "version": "3.12.3"
  }
 },
 "nbformat": 4,
 "nbformat_minor": 5
}
